{
 "cells": [
  {
   "cell_type": "code",
   "execution_count": 1,
   "metadata": {},
   "outputs": [],
   "source": [
    "import numpy as np\n",
    "import cv2"
   ]
  },
  {
   "cell_type": "code",
   "execution_count": 4,
   "metadata": {},
   "outputs": [],
   "source": [
    "cap = cv2.VideoCapture(\"Camera 3_20220526_003249.mp4\")"
   ]
  },
  {
   "cell_type": "code",
   "execution_count": null,
   "metadata": {},
   "outputs": [],
   "source": [
    "count = 0\n",
    "while cap.isOpened():\n",
    "    is_true, frame = cap.read()\n",
    "\n",
    "    if is_true:\n",
    "        cropped_frame = frame[210:445, 115:350]\n",
    "        resized_fram = cv2.resize(cropped_frame, (116, 116))\n",
    "\n",
    "        frame = cv2.resize(frame, (116, 116))\n",
    "\n",
    "        cv2.imwrite('D:\\Test Task\\Photos\\frame{:d}.jpg'.format(count), frame)\n",
    "        count += 15 #step\n",
    "        cap.set(cv2.CAP_PROP_POS_FRAMES, count) #set to current frame\n",
    "    else:\n",
    "        cap.release()\n",
    "        break"
   ]
  }
 ],
 "metadata": {
  "interpreter": {
   "hash": "66ad2a0fc99eef4a3bf89b375e9b9756c86124817c17e26a015d4a0d647e591d"
  },
  "kernelspec": {
   "display_name": "Python 3.9.7 64-bit",
   "language": "python",
   "name": "python3"
  },
  "language_info": {
   "codemirror_mode": {
    "name": "ipython",
    "version": 3
   },
   "file_extension": ".py",
   "mimetype": "text/x-python",
   "name": "python",
   "nbconvert_exporter": "python",
   "pygments_lexer": "ipython3",
   "version": "3.9.7"
  },
  "orig_nbformat": 4
 },
 "nbformat": 4,
 "nbformat_minor": 2
}
